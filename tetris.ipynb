{
 "cells": [
  {
   "cell_type": "code",
   "execution_count": 1,
   "metadata": {},
   "outputs": [],
   "source": [
    "import numpy as np"
   ]
  },
  {
   "cell_type": "code",
   "execution_count": 94,
   "metadata": {},
   "outputs": [],
   "source": [
    "class Piece():\n",
    "    def __init__(self, skirt, heights):\n",
    "        self.skirt = np.array(skirt)\n",
    "        self.heights = np.array(heights)\n",
    "        self.width = self.heights.size\n",
    "\n",
    "class Board():\n",
    "    def __init__(self):\n",
    "        self.width = 10\n",
    "        self.height = 20\n",
    "        self.state = np.zeros((self.height, self.width), dtype=int)\n",
    "        self.tops = np.zeros(self.width, dtype=int)\n",
    "        self.maxHeight = max(self.tops)\n",
    "        self.linesCleared = 0\n",
    "\n",
    "    def printState(self):\n",
    "        for i in self.state[::-1]:\n",
    "            for j in i:\n",
    "                print(j, end=' ')\n",
    "            print()\n",
    "\n",
    "    def drop(self, piece, xOffset):\n",
    "        temp = []\n",
    "        for i in range(piece.width):\n",
    "            temp.append(self.tops[xOffset + i] - piece.skirt[i])\n",
    "\n",
    "        tempMax = max(temp)\n",
    "        for i in range(len(temp)):\n",
    "            temp[i] = tempMax - temp[i]\n",
    "\n",
    "        for i in range(len(temp)):\n",
    "            temp[i] += self.tops[xOffset + i]\n",
    "\n",
    "        for j in range(piece.width):\n",
    "            for i in range(piece.heights[j]):\n",
    "                if i + temp[j] > self.height:\n",
    "                    raise Exception(\"game over\")\n",
    "                self.state[i + temp[j]][j + xOffset] = 1\n",
    "            self.tops[xOffset + j] = temp[j] + piece.heights[j]\n",
    "\n",
    "        # update maxHeight\n",
    "        self.maxHeight = max(self.tops)\n",
    "\n",
    "    def clearLine(self):\n",
    "        # checks for full lines, returns number of lines cleared\n",
    "        count = 0\n",
    "        i = 0\n",
    "\n",
    "        while i < self.maxHeight:\n",
    "            # check if lines are full\n",
    "            if 0 not in self.state[i]:\n",
    "                # move lines down\n",
    "                self.state[i:-1] = self.state[i + 1:]\n",
    "                self.state[-1] = np.zeros(self.width)\n",
    "                # keep track of lines cleared\n",
    "                count += 1\n",
    "                # update other states\n",
    "                self.maxHeight -= 1\n",
    "                self.tops -= 1\n",
    "            else:\n",
    "                i += 1\n",
    "        self.linesCleared =  count\n",
    "\n",
    "    def calcFeatures(self):\n",
    "        # calculates the features:\n",
    "\n",
    "        # number of holes and depth of wholes\n",
    "        holes = 0\n",
    "        holeDepths = 0\n",
    "        # iterate through each col\n",
    "        for i in range(self.width):\n",
    "            curr = self.state[:self.tops[i], i]\n",
    "            # find the zeros\n",
    "            zeros = np.where(curr == 0)[0]\n",
    "            # add the number of zeros\n",
    "            holes += zeros.size\n",
    "            # add the depth of the zeros, calculated by the self.tops[i] - index\n",
    "            holeDepths += np.sum(self.tops[i] - zeros)\n",
    "\n",
    "        # number of blocks(non zero) in column 0\n",
    "        col0 = np.count_nonzero(self.state[:self.tops[0], 0])\n",
    "\n",
    "        # bumpiness of the tops, sum and abs\n",
    "        diff = np.diff(self.tops)\n",
    "        bumps = np.sum(np.abs(diff))\n",
    "\n",
    "        # max height\n",
    "        maxHeight = self.maxHeight\n",
    "\n",
    "        # lines cleared\n",
    "        lineCleared = self.linesCleared\n",
    "\n",
    "\n",
    "        print(holes, holeDepths)\n",
    "\n",
    "\n",
    "oPiece = Piece([0, 0], [2, 2])\n",
    "lPiece = Piece([0, 0], [3, 1])\n",
    "sPiece = Piece([0, 0, 1], [1, 2, 1])"
   ]
  },
  {
   "cell_type": "code",
   "execution_count": 95,
   "metadata": {},
   "outputs": [
    {
     "name": "stdout",
     "output_type": "stream",
     "text": [
      "0 0 0 0 0 0 0 0 0 0 \n",
      "0 0 0 0 0 0 0 0 0 0 \n",
      "0 0 0 0 0 0 0 0 0 0 \n",
      "0 0 0 0 0 0 0 0 0 0 \n",
      "0 0 0 0 0 0 0 0 0 0 \n",
      "0 0 0 0 0 0 0 0 0 0 \n",
      "0 0 0 0 0 0 0 0 0 0 \n",
      "0 0 0 0 0 0 0 0 0 0 \n",
      "0 0 0 0 0 0 0 0 0 0 \n",
      "0 0 0 0 0 0 0 0 0 0 \n",
      "0 0 0 0 0 0 0 0 0 0 \n",
      "0 0 0 0 0 0 0 0 0 0 \n",
      "0 0 0 0 0 0 0 0 0 0 \n",
      "0 0 0 0 0 0 0 0 0 0 \n",
      "0 0 0 0 0 0 0 0 0 0 \n",
      "0 0 0 0 0 0 0 0 0 0 \n",
      "0 1 1 0 0 0 0 0 0 0 \n",
      "1 1 0 0 0 0 0 0 0 0 \n",
      "0 1 1 0 0 0 0 0 0 0 \n",
      "1 1 0 0 0 0 0 0 0 0 \n"
     ]
    }
   ],
   "source": [
    "b = Board()\n",
    "\n",
    "b.drop(sPiece, 0)\n",
    "b.drop(sPiece, 0)\n",
    "b.printState()"
   ]
  },
  {
   "cell_type": "code",
   "execution_count": 96,
   "metadata": {},
   "outputs": [
    {
     "name": "stdout",
     "output_type": "stream",
     "text": [
      "3 8\n"
     ]
    }
   ],
   "source": [
    "b.calcFeatures()"
   ]
  },
  {
   "cell_type": "code",
   "execution_count": 46,
   "metadata": {},
   "outputs": [
    {
     "name": "stdout",
     "output_type": "stream",
     "text": [
      "[2 2 2 2 2 2 2 2 2 2]\n",
      "[1 1 1 1 1 1 1 1 1 1]\n",
      "0 0 0 0 0 0 0 0 0 0 \n",
      "0 0 0 0 0 0 0 0 0 0 \n",
      "0 0 0 0 0 0 0 0 0 0 \n",
      "0 0 0 0 0 0 0 0 0 0 \n",
      "0 0 0 0 0 0 0 0 0 0 \n",
      "0 0 0 0 0 0 0 0 0 0 \n",
      "0 0 0 0 0 0 0 0 0 0 \n",
      "0 0 0 0 0 0 0 0 0 0 \n",
      "0 0 0 0 0 0 0 0 0 0 \n",
      "0 0 0 0 0 0 0 0 0 0 \n",
      "0 0 0 0 0 0 0 0 0 0 \n",
      "0 0 0 0 0 0 0 0 0 0 \n",
      "0 0 0 0 0 0 0 0 0 0 \n",
      "0 0 0 0 0 0 0 0 0 0 \n",
      "0 0 0 0 0 0 0 0 0 0 \n",
      "0 0 0 0 0 0 0 0 0 0 \n",
      "0 0 0 0 0 0 0 0 0 0 \n",
      "0 0 0 0 0 0 0 0 0 0 \n",
      "0 0 0 0 0 0 0 0 0 0 \n",
      "0 0 0 0 0 0 0 0 0 0 \n",
      "removed 2 lines \n"
     ]
    }
   ],
   "source": [
    "score = b.clearLine()\n",
    "b.printState()\n",
    "print(\"removed %d lines \" % score)"
   ]
  },
  {
   "cell_type": "code",
   "execution_count": 103,
   "metadata": {},
   "outputs": [
    {
     "data": {
      "text/plain": [
       "array([4, 2, 4, 1])"
      ]
     },
     "execution_count": 103,
     "metadata": {},
     "output_type": "execute_result"
    }
   ],
   "source": [
    "my_array = np.array([1, 5, 7, 3, 2])\n",
    "\n",
    "diff = np.diff(my_array)\n",
    "np.abs(diff)"
   ]
  },
  {
   "cell_type": "code",
   "execution_count": 88,
   "metadata": {},
   "outputs": [
    {
     "data": {
      "text/plain": [
       "array([4, 2])"
      ]
     },
     "execution_count": 88,
     "metadata": {},
     "output_type": "execute_result"
    }
   ],
   "source": [
    "temp = [0, 1, 0, 1]\n",
    "temp = np.array(temp)\n",
    "\n",
    "indices = np.where(temp == 0)[0]\n",
    "\n",
    "temp.size - indices"
   ]
  },
  {
   "cell_type": "code",
   "execution_count": null,
   "metadata": {},
   "outputs": [],
   "source": [
    "offset = 3\n",
    "width = 3\n",
    "\n",
    "for i in range(offset, offset+width):\n",
    "    print(i)\n",
    "\n",
    "temp = np.array([1, 2, 3])\n",
    "temp[0]"
   ]
  },
  {
   "cell_type": "code",
   "execution_count": null,
   "metadata": {},
   "outputs": [],
   "source": [
    "2 0\n",
    "0 3\n",
    "\n",
    "0 3\n",
    "\n",
    "1 0 1\n",
    "1 1 2\n",
    "\n",
    "0 1 1\n",
    "\n",
    "bottom - top\n",
    "if +ve, offset\n",
    "if -ve, hole"
   ]
  }
 ],
 "metadata": {
  "kernelspec": {
   "display_name": ".venv",
   "language": "python",
   "name": "python3"
  },
  "language_info": {
   "codemirror_mode": {
    "name": "ipython",
    "version": 3
   },
   "file_extension": ".py",
   "mimetype": "text/x-python",
   "name": "python",
   "nbconvert_exporter": "python",
   "pygments_lexer": "ipython3",
   "version": "3.9.6"
  }
 },
 "nbformat": 4,
 "nbformat_minor": 2
}
