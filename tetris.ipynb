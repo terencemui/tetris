{
 "cells": [
  {
   "cell_type": "code",
   "execution_count": null,
   "metadata": {},
   "outputs": [],
   "source": [
    "import numpy as np"
   ]
  },
  {
   "cell_type": "code",
   "execution_count": 55,
   "metadata": {},
   "outputs": [],
   "source": [
    "class Piece():\n",
    "    def __init__(self, skirt, heights):\n",
    "        self.skirt = np.array(skirt)\n",
    "        self.heights = np.array(heights)\n",
    "        self.width = self.heights.size\n",
    "\n",
    "class Board():\n",
    "    def __init__(self):\n",
    "        self.width = 10\n",
    "        self.height = 20\n",
    "        self.state = np.zeros((self.height, self.width), dtype=int)\n",
    "        self.tops = np.zeros(self.width, dtype=int)\n",
    "\n",
    "    def drop(self, piece, xOffset):\n",
    "        temp = []\n",
    "        for i in range(piece.width):\n",
    "            temp.append(self.tops[xOffset + i] - piece.skirt[xOffset + i])\n",
    "\n",
    "        tempMax = max(temp)\n",
    "        for i in range(len(temp)):\n",
    "            temp[i] = tempMax - temp[i]\n",
    "\n",
    "        for i in range(len(temp)):\n",
    "            temp[i] += self.tops[xOffset + i]\n",
    "\n",
    "        for j in range(piece.width):\n",
    "            for i in range(piece.heights[j]):\n",
    "                if i + temp[j] > self.height:\n",
    "                    raise Exception(\"game over\")\n",
    "                self.state[i + temp[j]][j + xOffset] = 1\n",
    "            self.tops[xOffset + j] = temp[j] + piece.heights[j]\n",
    "\n",
    "    def clearLine(self):\n",
    "        count = 0\n",
    "        for i in range(self.height):\n",
    "            if 0 not in self.state[i]:\n",
    "                self.state[i:-1] = self.state[i + 1:]\n",
    "                self.state[-1] = np.zeros(self.width)\n",
    "                count += 1\n",
    "\n",
    "\n",
    "    def printState(self):\n",
    "        for i in self.state[::-1]:\n",
    "            for j in i:\n",
    "                print(j, end=' ')\n",
    "            print()"
   ]
  },
  {
   "cell_type": "code",
   "execution_count": 56,
   "metadata": {},
   "outputs": [],
   "source": [
    "oPiece = Piece([0, 0], [2, 2])\n",
    "lPiece = Piece([0, 0], [3, 1])"
   ]
  },
  {
   "cell_type": "code",
   "execution_count": 57,
   "metadata": {},
   "outputs": [
    {
     "name": "stdout",
     "output_type": "stream",
     "text": [
      "0 0 0 0 0 0 0 0 0 0 \n",
      "0 0 0 0 0 0 0 0 0 0 \n",
      "0 0 0 0 0 0 0 0 0 0 \n",
      "0 0 0 0 0 0 0 0 0 0 \n",
      "0 0 0 0 0 0 0 0 0 0 \n",
      "0 0 0 0 0 0 0 0 0 0 \n",
      "0 0 0 0 0 0 0 0 0 0 \n",
      "0 0 0 0 0 0 0 0 0 0 \n",
      "0 0 0 0 0 0 0 0 0 0 \n",
      "0 0 0 0 0 0 0 0 0 0 \n",
      "0 0 0 0 0 0 0 0 0 0 \n",
      "0 0 0 0 0 0 0 0 0 0 \n",
      "0 0 0 0 0 0 0 0 0 0 \n",
      "0 0 0 0 0 0 0 0 0 0 \n",
      "0 0 0 0 0 0 0 0 0 0 \n",
      "0 0 0 0 0 0 0 0 0 0 \n",
      "0 0 0 0 0 0 0 0 0 0 \n",
      "1 0 0 0 0 0 0 0 0 0 \n",
      "1 0 0 0 0 0 0 0 0 0 \n",
      "1 1 0 0 0 0 0 0 0 0 \n"
     ]
    }
   ],
   "source": [
    "b = Board()\n",
    "\n",
    "b.drop(lPiece, 0)\n",
    "b.printState()"
   ]
  },
  {
   "cell_type": "code",
   "execution_count": 58,
   "metadata": {},
   "outputs": [
    {
     "name": "stdout",
     "output_type": "stream",
     "text": [
      "0 0 0 0 0 0 0 0 0 0 \n",
      "0 0 0 0 0 0 0 0 0 0 \n",
      "0 0 0 0 0 0 0 0 0 0 \n",
      "0 0 0 0 0 0 0 0 0 0 \n",
      "0 0 0 0 0 0 0 0 0 0 \n",
      "0 0 0 0 0 0 0 0 0 0 \n",
      "0 0 0 0 0 0 0 0 0 0 \n",
      "0 0 0 0 0 0 0 0 0 0 \n",
      "0 0 0 0 0 0 0 0 0 0 \n",
      "0 0 0 0 0 0 0 0 0 0 \n",
      "0 0 0 0 0 0 0 0 0 0 \n",
      "0 0 0 0 0 0 0 0 0 0 \n",
      "0 0 0 0 0 0 0 0 0 0 \n",
      "0 0 0 0 0 0 0 0 0 0 \n",
      "0 0 0 0 0 0 0 0 0 0 \n",
      "1 1 0 0 0 0 0 0 0 0 \n",
      "1 1 0 0 0 0 0 0 0 0 \n",
      "1 0 0 0 0 0 0 0 0 0 \n",
      "1 0 0 0 0 0 0 0 0 0 \n",
      "1 1 0 0 0 0 0 0 0 0 \n"
     ]
    }
   ],
   "source": [
    "b.drop(oPiece, 0)\n",
    "b.printState()"
   ]
  },
  {
   "cell_type": "code",
   "execution_count": 62,
   "metadata": {},
   "outputs": [
    {
     "data": {
      "text/plain": [
       "[1, 3, 4, 5, 5]"
      ]
     },
     "execution_count": 62,
     "metadata": {},
     "output_type": "execute_result"
    }
   ],
   "source": [
    "temp = [1, 2, 3, 4, 5]\n",
    "temp[1:-1] = temp[1 + 1:]\n",
    "temp"
   ]
  },
  {
   "cell_type": "code",
   "execution_count": 63,
   "metadata": {},
   "outputs": [
    {
     "name": "stdout",
     "output_type": "stream",
     "text": [
      "0\n",
      "1\n",
      "2\n",
      "3\n",
      "4\n"
     ]
    }
   ],
   "source": [
    "temp = [1, 2, 3, 4, 5]\n",
    "\n",
    "for i in range(len(temp)):\n",
    "    print(i)\n",
    "    if i == 3:\n",
    "        temp[i] = 0\n",
    "        i -= 1"
   ]
  },
  {
   "cell_type": "code",
   "execution_count": null,
   "metadata": {},
   "outputs": [],
   "source": [
    "offset = 3\n",
    "width = 3\n",
    "\n",
    "for i in range(offset, offset+width):\n",
    "    print(i)\n",
    "\n",
    "temp = np.array([1, 2, 3])\n",
    "temp[0]"
   ]
  },
  {
   "cell_type": "code",
   "execution_count": null,
   "metadata": {},
   "outputs": [],
   "source": [
    "2 0\n",
    "0 3\n",
    "\n",
    "0 3\n",
    "\n",
    "1 0 1\n",
    "1 1 2\n",
    "\n",
    "0 1 1\n",
    "\n",
    "bottom - top\n",
    "if +ve, offset\n",
    "if -ve, hole"
   ]
  }
 ],
 "metadata": {
  "kernelspec": {
   "display_name": ".venv",
   "language": "python",
   "name": "python3"
  },
  "language_info": {
   "codemirror_mode": {
    "name": "ipython",
    "version": 3
   },
   "file_extension": ".py",
   "mimetype": "text/x-python",
   "name": "python",
   "nbconvert_exporter": "python",
   "pygments_lexer": "ipython3",
   "version": "3.11.4"
  }
 },
 "nbformat": 4,
 "nbformat_minor": 2
}
